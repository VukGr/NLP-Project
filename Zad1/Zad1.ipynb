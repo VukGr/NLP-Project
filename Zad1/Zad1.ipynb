{
 "cells": [
  {
   "cell_type": "code",
   "execution_count": 489,
   "id": "49bd679a-3319-46f6-8cab-871586d4c84e",
   "metadata": {},
   "outputs": [],
   "source": [
    "import nltk\n",
    "import numpy as np\n",
    "from sklearn.feature_extraction.text import CountVectorizer\n",
    "import re\n",
    "import glob\n",
    "import json\n",
    "import pandas as pd"
   ]
  },
  {
   "cell_type": "markdown",
   "id": "f4873f1c-138f-4513-9c75-78cb44844aba",
   "metadata": {},
   "source": [
    "## Transcript parsing and dataset creation "
   ]
  },
  {
   "cell_type": "code",
   "execution_count": 256,
   "id": "f168aee6-d23a-4aa4-9f1b-8c4ca5c14c72",
   "metadata": {},
   "outputs": [],
   "source": [
    "def parse_line(line):\n",
    "    character, text = line.split(':', 1)\n",
    "    return character.strip().lower(), text.strip()"
   ]
  },
  {
   "cell_type": "code",
   "execution_count": 263,
   "id": "d996f816-110a-447c-b23b-f86ddb6dfeac",
   "metadata": {},
   "outputs": [],
   "source": [
    "def clean_text(text):\n",
    "    text = re.sub(r'---\\s?', '', text)\n",
    "    text = re.sub(r'\\(.*\\)\\s?', '', text)\n",
    "    text = re.sub(r'♪\\s?', '', text)\n",
    "    return text\n",
    "\n",
    "sent_detector = nltk.data.load('tokenizers/punkt/english.pickle')\n",
    "def separate_sentences(text):\n",
    "    return sent_detector.tokenize(text)"
   ]
  },
  {
   "cell_type": "code",
   "execution_count": 260,
   "id": "027ffc5e-13eb-41f3-853d-c84dd3d1d786",
   "metadata": {},
   "outputs": [],
   "source": [
    "main_characters = {'bart', 'lisa', 'marge', 'homer'}\n",
    "def parse_episode(filename, handle_multiline=True, main_characters=main_characters):\n",
    "    transcript = ''\n",
    "    character_lines = {character: [] for character in main_characters}\n",
    "    \n",
    "    with open(filename) as file:\n",
    "        transcript = file.read()\n",
    "    \n",
    "    lines = iter(transcript.split('\\n'))\n",
    "    for line in lines:\n",
    "        line = line.strip()\n",
    "        if line == '':\n",
    "            continue\n",
    "        # Non-dialogue line\n",
    "        if line.find(':') == -1:\n",
    "            continue\n",
    "            \n",
    "        character, text = parse_line(line)\n",
    "    \n",
    "        if character not in main_characters:\n",
    "            continue\n",
    "            \n",
    "        # Single line dialogue\n",
    "        if text != '':\n",
    "            for sentence in separate_sentences(clean_text(text)):\n",
    "                character_lines[character].append(sentence)\n",
    "        # Multi line dialogue\n",
    "        elif handle_multiline:\n",
    "            for i, subline in enumerate(lines):\n",
    "                # Multiline dialogues start and end with an empty line\n",
    "                if i == 0 and subline == '':\n",
    "                    continue\n",
    "                if subline == '':\n",
    "                    break\n",
    "                for sentence in separate_sentences(clean_text(text)):\n",
    "                    character_lines[character].append(sentence)\n",
    "    return character_lines"
   ]
  },
  {
   "cell_type": "code",
   "execution_count": 380,
   "id": "dcb94de4-8241-4d1c-b522-e80658633fea",
   "metadata": {
    "scrolled": true
   },
   "outputs": [],
   "source": [
    "ep_lines_array = [parse_episode(ep, handle_multiline=i>4) for i, ep in enumerate(glob.glob('./data/*.txt'))]\n",
    "\n",
    "def combine_lines(ep_lines_array):\n",
    "    res = {char: [] for char in main_characters}\n",
    "    for ep_lines in ep_lines_array:\n",
    "        for char in main_characters:\n",
    "            res[char] += (ep_lines[char])\n",
    "    return res\n",
    "\n",
    "dataset = combine_lines(ep_lines_array)"
   ]
  },
  {
   "cell_type": "code",
   "execution_count": null,
   "id": "2ed586d1-1f34-4f21-995a-2a202920c701",
   "metadata": {},
   "outputs": [],
   "source": [
    "with open('./data/dataset.json', 'w') as file:\n",
    "    json.dump(dataset, file)"
   ]
  },
  {
   "cell_type": "markdown",
   "id": "349f203d-f6d6-442c-9aa7-0b6a522b4061",
   "metadata": {},
   "source": [
    "## Model testing"
   ]
  },
  {
   "cell_type": "code",
   "execution_count": 104,
   "id": "4f7e5c80-f60d-40a0-8ac7-babe077d398d",
   "metadata": {},
   "outputs": [],
   "source": [
    "def flatten(list_of_lists):\n",
    "    return [el for list in list_of_lists for el in list]"
   ]
  },
  {
   "cell_type": "code",
   "execution_count": 445,
   "id": "7b3910d6-a749-4092-900e-5b52bcab85aa",
   "metadata": {},
   "outputs": [],
   "source": [
    "def preprocess(data):\n",
    "    data = data.toarray()\n",
    "    sum = data.sum(axis=1)\n",
    "    freq = (data/sum).ravel() if sum != 0 else np.array([0])\n",
    "    return dict(enumerate(freq.ravel()))\n",
    "\n",
    "def extract_features(bag, line):\n",
    "    return preprocess(bag.transform([line]))"
   ]
  },
  {
   "cell_type": "code",
   "execution_count": 417,
   "id": "53ae303e-ded8-423c-8c1c-d56a30988063",
   "metadata": {},
   "outputs": [
    {
     "name": "stdout",
     "output_type": "stream",
     "text": [
      "2614\n"
     ]
    }
   ],
   "source": [
    "bag = CountVectorizer()\n",
    "bag.fit(flatten(dataset.values()))\n",
    "\n",
    "X = [(preprocess(line), character) for character in main_characters for line in bag.transform(dataset[character])]\n",
    "bayes = nltk.NaiveBayesClassifier.train(X)\n",
    "\n",
    "print(len(bag.get_feature_names_out()))"
   ]
  },
  {
   "cell_type": "code",
   "execution_count": 437,
   "id": "b8b8fa71-0e48-46b0-96f9-9524e8786b17",
   "metadata": {},
   "outputs": [
    {
     "name": "stdout",
     "output_type": "stream",
     "text": [
      "2326\n"
     ]
    }
   ],
   "source": [
    "stemmer = nltk.stem.PorterStemmer()\n",
    "\n",
    "bag = CountVectorizer(tokenizer=lambda x: [stemmer.stem(word) for word in nltk.word_tokenize(x)], token_pattern=None)\n",
    "bag.fit(flatten(dataset.values()))\n",
    "\n",
    "X = [(preprocess(line), character) for character in main_characters for line in bag.transform(dataset[character])]\n",
    "bayes = nltk.NaiveBayesClassifier.train(X)\n",
    "\n",
    "print(len(bag.get_feature_names_out()))"
   ]
  },
  {
   "cell_type": "code",
   "execution_count": 428,
   "id": "fba5e945-40ad-4aa8-83c7-0447f30982d6",
   "metadata": {},
   "outputs": [
    {
     "name": "stdout",
     "output_type": "stream",
     "text": [
      "2552\n"
     ]
    }
   ],
   "source": [
    "lemmer = nltk.stem.WordNetLemmatizer()\n",
    "\n",
    "bag = CountVectorizer(tokenizer=lambda x: [lemmer.lemmatize(word) for word in nltk.word_tokenize(x)], token_pattern=None)\n",
    "bag.fit(flatten(dataset.values()))\n",
    "\n",
    "X = [(preprocess(line), character) for character in main_characters for line in bag.transform(dataset[character])]\n",
    "bayes = nltk.NaiveBayesClassifier.train(X)\n",
    "\n",
    "print(len(bag.get_feature_names_out()))"
   ]
  },
  {
   "cell_type": "code",
   "execution_count": 446,
   "id": "a63f5d41-dbef-433f-9e5e-d5e0e1e894ca",
   "metadata": {},
   "outputs": [
    {
     "name": "stdout",
     "output_type": "stream",
     "text": [
      "2319\n"
     ]
    }
   ],
   "source": [
    "stemmer = nltk.stem.SnowballStemmer(language='english')\n",
    "\n",
    "bag = CountVectorizer(tokenizer=lambda x: [stemmer.stem(word) for word in nltk.word_tokenize(x)], token_pattern=None)\n",
    "bag.fit(flatten(dataset.values()))\n",
    "\n",
    "X = [(preprocess(line), character) for character in main_characters for line in bag.transform(dataset[character])]\n",
    "bayes = nltk.NaiveBayesClassifier.train(X)\n",
    "\n",
    "print(len(bag.get_feature_names_out()))"
   ]
  },
  {
   "cell_type": "code",
   "execution_count": 460,
   "id": "af2ab5c0-6156-4ac8-8531-5b2cc5579725",
   "metadata": {},
   "outputs": [
    {
     "name": "stdout",
     "output_type": "stream",
     "text": [
      "750\n"
     ]
    }
   ],
   "source": [
    "stemmer = nltk.stem.SnowballStemmer(language='english')\n",
    "\n",
    "bag = CountVectorizer(tokenizer=lambda x: [stemmer.stem(word) for word in nltk.word_tokenize(x)], token_pattern=None, \n",
    "                      max_features=750)\n",
    "bag.fit(flatten(dataset.values()))\n",
    "\n",
    "X = [(preprocess(line), character) for character in main_characters for line in bag.transform(dataset[character])]\n",
    "bayes = nltk.NaiveBayesClassifier.train(X)\n",
    "\n",
    "print(len(bag.get_feature_names_out()))"
   ]
  },
  {
   "cell_type": "markdown",
   "id": "a949e01c-bb3c-4280-bbaf-2b2e3f032c65",
   "metadata": {},
   "source": [
    "## Validation on popular quotes"
   ]
  },
  {
   "cell_type": "code",
   "execution_count": 476,
   "id": "d3cd1a3d-da0f-4f9d-ab87-ff1a9fcb72d9",
   "metadata": {},
   "outputs": [
    {
     "data": {
      "text/plain": [
       "'homer'"
      ]
     },
     "execution_count": 476,
     "metadata": {},
     "output_type": "execute_result"
    }
   ],
   "source": [
    "# Correct: Homer\n",
    "bayes.classify(extract_features(bag, \"If something's hard to do, then it's not worth doing\"))"
   ]
  },
  {
   "cell_type": "code",
   "execution_count": 477,
   "id": "a568e8cf-cde4-42f8-ad4b-06686435f5fd",
   "metadata": {},
   "outputs": [
    {
     "data": {
      "text/plain": [
       "'homer'"
      ]
     },
     "execution_count": 477,
     "metadata": {},
     "output_type": "execute_result"
    }
   ],
   "source": [
    "# Correct: Homer\n",
    "bayes.classify(extract_features(bag, \"Marge it takes two to lie.\"))"
   ]
  },
  {
   "cell_type": "code",
   "execution_count": 478,
   "id": "dbf59f2f-b29e-4d6e-aab1-6bd6b4841595",
   "metadata": {},
   "outputs": [
    {
     "data": {
      "text/plain": [
       "'homer'"
      ]
     },
     "execution_count": 478,
     "metadata": {},
     "output_type": "execute_result"
    }
   ],
   "source": [
    "# Correct: Marge\n",
    "bayes.classify(extract_features(bag, \"I just think they're neat.\"))"
   ]
  },
  {
   "cell_type": "code",
   "execution_count": 479,
   "id": "0a601dae-4faa-4766-8c9a-a2954d39cf33",
   "metadata": {},
   "outputs": [
    {
     "data": {
      "text/plain": [
       "'marge'"
      ]
     },
     "execution_count": 479,
     "metadata": {},
     "output_type": "execute_result"
    }
   ],
   "source": [
    "# Correct: Marge\n",
    "bayes.classify(extract_features(bag, \"I hope you understand I'm too tense to pretend I like you.\"))"
   ]
  },
  {
   "cell_type": "code",
   "execution_count": 480,
   "id": "d33a4680-780b-42d0-89f6-478910893f2c",
   "metadata": {},
   "outputs": [
    {
     "data": {
      "text/plain": [
       "'homer'"
      ]
     },
     "execution_count": 480,
     "metadata": {},
     "output_type": "execute_result"
    }
   ],
   "source": [
    "# Correct: Lisa\n",
    "bayes.classify(extract_features(bag, \"If anyone wants me I'll be in my room.\"))"
   ]
  },
  {
   "cell_type": "code",
   "execution_count": 481,
   "id": "5a20ab7d-afa5-4fde-9f6a-7f50bac053e0",
   "metadata": {},
   "outputs": [
    {
     "data": {
      "text/plain": [
       "'bart'"
      ]
     },
     "execution_count": 481,
     "metadata": {},
     "output_type": "execute_result"
    }
   ],
   "source": [
    "# Correct: Lisa\n",
    "bayes.classify(extract_features(bag, \"These are my only friends.\"))"
   ]
  },
  {
   "cell_type": "code",
   "execution_count": 484,
   "id": "04b0df40-fd12-4b87-85ac-04c04b53871e",
   "metadata": {},
   "outputs": [
    {
     "data": {
      "text/plain": [
       "'bart'"
      ]
     },
     "execution_count": 484,
     "metadata": {},
     "output_type": "execute_result"
    }
   ],
   "source": [
    "# Correct: Bart\n",
    "bayes.classify(extract_features(bag, \"I didn't do it.\"))"
   ]
  },
  {
   "cell_type": "code",
   "execution_count": 483,
   "id": "02737041-dcf9-468c-a050-f0a9b500a2e8",
   "metadata": {},
   "outputs": [
    {
     "data": {
      "text/plain": [
       "'bart'"
      ]
     },
     "execution_count": 483,
     "metadata": {},
     "output_type": "execute_result"
    }
   ],
   "source": [
    "# Correct: Bart\n",
    "bayes.classify(extract_features(bag, \"They're not gonna get away with this.\"))"
   ]
  },
  {
   "cell_type": "markdown",
   "id": "1fc7942e-c1e0-48e5-bdec-0f2430c068fc",
   "metadata": {},
   "source": [
    "## Checking if the dataset is unbalanced"
   ]
  },
  {
   "cell_type": "code",
   "execution_count": 510,
   "id": "47d0b4a0-3277-44ac-80c5-b3483831c4d0",
   "metadata": {},
   "outputs": [
    {
     "data": {
      "text/html": [
       "<div>\n",
       "<style scoped>\n",
       "    .dataframe tbody tr th:only-of-type {\n",
       "        vertical-align: middle;\n",
       "    }\n",
       "\n",
       "    .dataframe tbody tr th {\n",
       "        vertical-align: top;\n",
       "    }\n",
       "\n",
       "    .dataframe thead th {\n",
       "        text-align: right;\n",
       "    }\n",
       "</style>\n",
       "<table border=\"1\" class=\"dataframe\">\n",
       "  <thead>\n",
       "    <tr style=\"text-align: right;\">\n",
       "      <th></th>\n",
       "      <th>homer</th>\n",
       "      <th>bart</th>\n",
       "      <th>marge</th>\n",
       "      <th>lisa</th>\n",
       "    </tr>\n",
       "  </thead>\n",
       "  <tbody>\n",
       "    <tr>\n",
       "      <th>0</th>\n",
       "      <td>1519</td>\n",
       "      <td>975</td>\n",
       "      <td>626</td>\n",
       "      <td>323</td>\n",
       "    </tr>\n",
       "  </tbody>\n",
       "</table>\n",
       "</div>"
      ],
      "text/plain": [
       "   homer  bart  marge  lisa\n",
       "0   1519   975    626   323"
      ]
     },
     "execution_count": 510,
     "metadata": {},
     "output_type": "execute_result"
    }
   ],
   "source": [
    "counts = pd.DataFrame({character: [len(dataset[character])] for character in dataset})\n",
    "counts"
   ]
  },
  {
   "cell_type": "code",
   "execution_count": 512,
   "id": "c8f6cf01-629f-4a00-a284-121ac44f7861",
   "metadata": {},
   "outputs": [
    {
     "data": {
      "text/plain": [
       "(-1.25, 1.25, -1.25, 1.25)"
      ]
     },
     "execution_count": 512,
     "metadata": {},
     "output_type": "execute_result"
    },
    {
     "data": {
      "image/png": "[encoded data removed]",
      "text/plain": [
       "<Figure size 640x480 with 1 Axes>"
      ]
     },
     "metadata": {},
     "output_type": "display_data"
    }
   ],
   "source": [
    "counts.T[0].plot.pie(title='Line counts by character', autopct='%.2f').axis('off')"
   ]
  }
 ],
 "metadata": {
  "kernelspec": {
   "display_name": "Python 3 (ipykernel)",
   "language": "python",
   "name": "python3"
  },
  "language_info": {
   "codemirror_mode": {
    "name": "ipython",
    "version": 3
   },
   "file_extension": ".py",
   "mimetype": "text/x-python",
   "name": "python",
   "nbconvert_exporter": "python",
   "pygments_lexer": "ipython3",
   "version": "3.11.0rc1"
  }
 },
 "nbformat": 4,
 "nbformat_minor": 5
}
